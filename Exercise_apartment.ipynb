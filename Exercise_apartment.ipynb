{
 "cells": [
  {
   "cell_type": "code",
   "execution_count": 1,
   "id": "035004e7",
   "metadata": {},
   "outputs": [],
   "source": [
    "import numpy_financial as npf\n",
    "import numpy as np\n",
    "import matplotlib.pyplot as plt"
   ]
  },
  {
   "cell_type": "code",
   "execution_count": 3,
   "id": "1a2e7f0a",
   "metadata": {},
   "outputs": [
    {
     "data": {
      "text/plain": [
       "array([1200.  , 1185.31, 1170.47, 1155.48, 1140.34, 1125.05, 1109.61,\n",
       "       1094.01, 1078.26, 1062.35, 1046.28, 1030.04, 1013.65,  997.09,\n",
       "        980.37,  963.48,  946.42,  929.2 ,  911.79,  894.22,  876.47,\n",
       "        858.54,  840.43,  822.14,  803.67,  785.01,  766.17,  747.14,\n",
       "        727.92,  708.5 ,  688.89,  669.09,  649.09,  628.88,  608.48,\n",
       "        587.87,  567.06,  546.03,  524.8 ,  503.36,  481.7 ,  459.82,\n",
       "        437.72,  415.41,  392.87,  370.1 ,  347.11,  323.89,  300.44,\n",
       "        276.75,  252.82,  228.66,  204.25,  179.6 ,  154.7 ,  129.55,\n",
       "        104.16,   78.5 ,   52.6 ,   26.43])"
      ]
     },
     "execution_count": 3,
     "metadata": {},
     "output_type": "execute_result"
    }
   ],
   "source": [
    "freq = 12\n",
    "rate = 0.12\n",
    "years = 5\n",
    "pv = 120000\n",
    "nper = years * freq  # liczba wszystkich okresów\n",
    "periods = np.arange(1,nper+1,dtype=int)\n",
    "\n",
    "\n",
    "rate /= freq  # konwersja stopy do okresu miesięcznego\n",
    "\n",
    "\n",
    "interest_equal = -np.around(npf.ipmt(rate,periods,nper,pv),2)\n",
    "interest_equal[:60]"
   ]
  },
  {
   "cell_type": "code",
   "execution_count": 4,
   "id": "bbc6e8cf",
   "metadata": {},
   "outputs": [
    {
     "data": {
      "text/plain": [
       "array([2000., 2000., 2000., 2000., 2000., 2000., 2000., 2000., 2000.,\n",
       "       2000., 2000., 2000., 2000., 2000., 2000., 2000., 2000., 2000.,\n",
       "       2000., 2000., 2000., 2000., 2000., 2000., 2000., 2000., 2000.,\n",
       "       2000., 2000., 2000., 2000., 2000., 2000., 2000., 2000., 2000.,\n",
       "       2000., 2000., 2000., 2000., 2000., 2000., 2000., 2000., 2000.,\n",
       "       2000., 2000., 2000., 2000., 2000., 2000., 2000., 2000., 2000.,\n",
       "       2000., 2000., 2000., 2000., 2000., 2000.])"
      ]
     },
     "execution_count": 4,
     "metadata": {},
     "output_type": "execute_result"
    }
   ],
   "source": [
    "np.set_printoptions(suppress=True)\n",
    "\n",
    "principal_decreasing = np.around(np.zeros(nper)+(pv/nper),2)\n",
    "principal_decreasing[:60]"
   ]
  },
  {
   "cell_type": "code",
   "execution_count": 46,
   "id": "c56744ba",
   "metadata": {},
   "outputs": [],
   "source": [
    "P = 120000\n",
    "R = 5\n",
    "T = 5\n",
    "\n",
    "def compound_interest(principle, rate, time):\n",
    "   i= 1 + (rate/100)\n",
    "   Amount = principle * (pow (i, time))\n",
    "   CI = Amount - principle\n",
    "   return Amount\n",
    "      \n",
    " "
   ]
  },
  {
   "cell_type": "code",
   "execution_count": 47,
   "id": "a8f305d1",
   "metadata": {},
   "outputs": [
    {
     "data": {
      "text/plain": [
       "153153.78750000003"
      ]
     },
     "execution_count": 47,
     "metadata": {},
     "output_type": "execute_result"
    }
   ],
   "source": [
    "compound_interest(P,R,T)"
   ]
  },
  {
   "cell_type": "code",
   "execution_count": 48,
   "id": "40bcc7cb",
   "metadata": {},
   "outputs": [],
   "source": [
    "monthly_payment= principal_decreasing + interest_equal"
   ]
  },
  {
   "cell_type": "code",
   "execution_count": 49,
   "id": "f7b7b64f",
   "metadata": {},
   "outputs": [
    {
     "data": {
      "text/plain": [
       "array([3200.  , 3185.31, 3170.47, 3155.48, 3140.34, 3125.05, 3109.61,\n",
       "       3094.01, 3078.26, 3062.35, 3046.28, 3030.04, 3013.65, 2997.09,\n",
       "       2980.37, 2963.48, 2946.42, 2929.2 , 2911.79, 2894.22, 2876.47,\n",
       "       2858.54, 2840.43, 2822.14, 2803.67, 2785.01, 2766.17, 2747.14,\n",
       "       2727.92, 2708.5 , 2688.89, 2669.09, 2649.09, 2628.88, 2608.48,\n",
       "       2587.87, 2567.06, 2546.03, 2524.8 , 2503.36, 2481.7 , 2459.82,\n",
       "       2437.72, 2415.41, 2392.87, 2370.1 , 2347.11, 2323.89, 2300.44,\n",
       "       2276.75, 2252.82, 2228.66, 2204.25, 2179.6 , 2154.7 , 2129.55,\n",
       "       2104.16, 2078.5 , 2052.6 , 2026.43])"
      ]
     },
     "execution_count": 49,
     "metadata": {},
     "output_type": "execute_result"
    }
   ],
   "source": [
    "monthly_payment"
   ]
  },
  {
   "cell_type": "code",
   "execution_count": 52,
   "id": "73480206",
   "metadata": {},
   "outputs": [],
   "source": [
    "property_value = np.arange(1,nper+1,dtype=int)\n",
    "\n",
    "for i in range(nper):\n",
    "    property_value[i] = property_value[i] + compound_interest(P, 5/12, i+1)"
   ]
  },
  {
   "cell_type": "code",
   "execution_count": 53,
   "id": "4320e4af",
   "metadata": {},
   "outputs": [
    {
     "data": {
      "text/plain": [
       "array([120501, 121004, 121509, 122016, 122525, 123037, 123551, 124066,\n",
       "       124584, 125104, 125627, 126151, 126678, 127206, 127737, 128270,\n",
       "       128806, 129343, 129883, 130425, 130970, 131516, 132065, 132616,\n",
       "       133170, 133726, 134284, 134844, 135407, 135972, 136539, 137109,\n",
       "       137681, 138256, 138833, 139412, 139994, 140578, 141165, 141754,\n",
       "       142345, 142939, 143535, 144134, 144736, 145340, 145946, 146555,\n",
       "       147166, 147780, 148397, 149016, 149638, 150262, 150889, 151518,\n",
       "       152150, 152785, 153423, 154063])"
      ]
     },
     "execution_count": 53,
     "metadata": {},
     "output_type": "execute_result"
    }
   ],
   "source": [
    "property_value"
   ]
  },
  {
   "cell_type": "code",
   "execution_count": 56,
   "id": "2b138847",
   "metadata": {},
   "outputs": [
    {
     "data": {
      "text/plain": [
       "Text(0, 0.5, 'payment per month')"
      ]
     },
     "execution_count": 56,
     "metadata": {},
     "output_type": "execute_result"
    },
    {
     "data": {
      "image/png": "[encoded data removed]",
      "text/plain": [
       "<Figure size 432x288 with 1 Axes>"
      ]
     },
     "metadata": {
      "needs_background": "light"
     },
     "output_type": "display_data"
    }
   ],
   "source": [
    "plt.plot(property_value,label='property_value')\n",
    "plt.plot(monthly_payment.cumsum(),label='monthly_payment')\n",
    "plt.legend()\n",
    "plt.xlabel('property_value per month')\n",
    "plt.ylabel('payment per month')"
   ]
  },
  {
   "cell_type": "code",
   "execution_count": null,
   "id": "7e41777f",
   "metadata": {},
   "outputs": [],
   "source": []
  }
 ],
 "metadata": {
  "kernelspec": {
   "display_name": "Python 3 (ipykernel)",
   "language": "python",
   "name": "python3"
  },
  "language_info": {
   "codemirror_mode": {
    "name": "ipython",
    "version": 3
   },
   "file_extension": ".py",
   "mimetype": "text/x-python",
   "name": "python",
   "nbconvert_exporter": "python",
   "pygments_lexer": "ipython3",
   "version": "3.8.8"
  }
 },
 "nbformat": 4,
 "nbformat_minor": 5
}
