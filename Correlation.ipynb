{
 "cells": [
  {
   "cell_type": "code",
   "execution_count": 83,
   "id": "fe0a0941",
   "metadata": {},
   "outputs": [],
   "source": [
    "import pandas as pd\n",
    "import math\n",
    "import numpy as np"
   ]
  },
  {
   "cell_type": "code",
   "execution_count": 84,
   "id": "99ca4a11",
   "metadata": {},
   "outputs": [],
   "source": [
    "df = pd.read_csv('mydata.csv')\n",
    "data = pd.DataFrame(df, columns=[\"Country\", \"Fertility rate\", \"Life expectancy at birth\"])\n",
    "data = data.set_index(\"Country\")\n",
    "\n",
    "X_F = df[df.columns[1]].to_numpy()\n",
    "Y_LE = df[df.columns[2]].to_numpy()"
   ]
  },
  {
   "cell_type": "code",
   "execution_count": 85,
   "id": "8848e4d7",
   "metadata": {},
   "outputs": [],
   "source": [
    "def function_average(a=[]):\n",
    "    sum=0\n",
    "    for i in range(len(a)):\n",
    "       sum=a[i]+sum\n",
    "    return sum/len(a)\n",
    "average_LE = function_average(Y_LE)"
   ]
  },
  {
   "cell_type": "code",
   "execution_count": 86,
   "id": "0f09c01f",
   "metadata": {},
   "outputs": [],
   "source": [
    "def function_median(a=[]):\n",
    "    A=np.sort(a) \n",
    "    if len(a)%2==0:\n",
    "     mid= math.ceil(len(a)/2)\n",
    "     return (A[mid-1]+A[mid])/2\n",
    "    else:   \n",
    "     mid =int(len(a)/2)\n",
    "     print(len(a))\n",
    "     return (A[mid])"
   ]
  },
  {
   "cell_type": "code",
   "execution_count": 87,
   "id": "68f507cb",
   "metadata": {},
   "outputs": [],
   "source": [
    "def dominant(A=[]):\n",
    "    x = None\n",
    "    count = 0\n",
    "    for i in A:\n",
    "        if count == 0:\n",
    "            x = i\n",
    "            count += 1\n",
    "        elif i == x:\n",
    "            count += 1\n",
    "        else:\n",
    "            count -= 1\n",
    "    return (x, count)"
   ]
  },
  {
   "cell_type": "code",
   "execution_count": 88,
   "id": "1569223b",
   "metadata": {},
   "outputs": [],
   "source": [
    "from matplotlib import pyplot"
   ]
  },
  {
   "cell_type": "code",
   "execution_count": 89,
   "id": "33373ab8",
   "metadata": {},
   "outputs": [
    {
     "data": {
      "text/plain": [
       "<matplotlib.collections.PathCollection at 0x1bffaa59ee0>"
      ]
     },
     "execution_count": 89,
     "metadata": {},
     "output_type": "execute_result"
    },
    {
     "data": {
      "image/png": "[encoded data removed]",
      "text/plain": [
       "<Figure size 432x288 with 1 Axes>"
      ]
     },
     "metadata": {
      "needs_background": "light"
     },
     "output_type": "display_data"
    }
   ],
   "source": [
    "pyplot.scatter(X_F,Y_LE)"
   ]
  },
  {
   "cell_type": "code",
   "execution_count": 90,
   "id": "4e75285f",
   "metadata": {},
   "outputs": [],
   "source": [
    "from numpy import cov"
   ]
  },
  {
   "cell_type": "code",
   "execution_count": 91,
   "id": "ddd71b69",
   "metadata": {},
   "outputs": [],
   "source": [
    "data1=np.array(X_F)\n",
    "data2=np.array(Y_LE)"
   ]
  },
  {
   "cell_type": "code",
   "execution_count": 92,
   "id": "958803b1",
   "metadata": {},
   "outputs": [
    {
     "data": {
      "text/plain": [
       "array([76.85, 81.41, 77.58, 74.16, 68.85, 73.89, 75.27, 76.26, 80.57,\n",
       "       65.46, 67.55, 55.02, 76.28, 82.29, 69.81, 81.4 , 82.2 , 74.23,\n",
       "       80.13, 45.55])"
      ]
     },
     "execution_count": 92,
     "metadata": {},
     "output_type": "execute_result"
    }
   ],
   "source": [
    "data2"
   ]
  },
  {
   "cell_type": "code",
   "execution_count": 93,
   "id": "bedba40a",
   "metadata": {},
   "outputs": [
    {
     "data": {
      "text/plain": [
       "array([1.3  , 1.95 , 2.47 , 1.6  , 2.95 , 1.801, 1.34 , 1.34 , 1.63 ,\n",
       "       2.326, 2.44 , 6.56 , 1.28 , 1.43 , 1.99 , 1.61 , 1.92 , 2.4  ,\n",
       "       1.5  , 4.71 ])"
      ]
     },
     "execution_count": 93,
     "metadata": {},
     "output_type": "execute_result"
    }
   ],
   "source": [
    "data1"
   ]
  },
  {
   "cell_type": "code",
   "execution_count": 94,
   "id": "72fa6da5",
   "metadata": {},
   "outputs": [
    {
     "name": "stdout",
     "output_type": "stream",
     "text": [
      "Covariance matrix of Life expectancy:\n",
      " 88.2086905263158\n"
     ]
    }
   ],
   "source": [
    "print(\"Covariance matrix of Life expectancy:\\n\", np.cov(data2))"
   ]
  },
  {
   "cell_type": "code",
   "execution_count": 95,
   "id": "ace1575c",
   "metadata": {},
   "outputs": [],
   "source": [
    "def function_variance(a=[]):\n",
    " var_mean=function_average(a)\n",
    " n = len(a)\n",
    " sum = 0\n",
    " for i in range(len(a)):\n",
    "     sum=(a[i]-var_mean)*(a[i]-var_mean)+sum\n",
    " return sum/(n-1)"
   ]
  },
  {
   "cell_type": "code",
   "execution_count": 96,
   "id": "dc90ff26",
   "metadata": {},
   "outputs": [],
   "source": [
    "variance_LE = function_variance(data2)"
   ]
  },
  {
   "cell_type": "code",
   "execution_count": 97,
   "id": "cfd3f889",
   "metadata": {},
   "outputs": [
    {
     "data": {
      "text/plain": [
       "88.2086905263158"
      ]
     },
     "execution_count": 97,
     "metadata": {},
     "output_type": "execute_result"
    }
   ],
   "source": [
    "variance_LE\n",
    "\n"
   ]
  },
  {
   "cell_type": "code",
   "execution_count": 98,
   "id": "80c27d9e",
   "metadata": {},
   "outputs": [
    {
     "data": {
      "text/plain": [
       "73.238"
      ]
     },
     "execution_count": 98,
     "metadata": {},
     "output_type": "execute_result"
    }
   ],
   "source": [
    "average_LE"
   ]
  },
  {
   "cell_type": "code",
   "execution_count": 99,
   "id": "dd4de7cf",
   "metadata": {},
   "outputs": [],
   "source": [
    "def function_sd(a=[]):\n",
    "  sd = math.sqrt(function_variance(a))\n",
    "  return sd"
   ]
  },
  {
   "cell_type": "code",
   "execution_count": 100,
   "id": "ea23d1e3",
   "metadata": {},
   "outputs": [],
   "source": [
    "sd= function_sd(data2)"
   ]
  },
  {
   "cell_type": "code",
   "execution_count": 101,
   "id": "8e667927",
   "metadata": {},
   "outputs": [
    {
     "data": {
      "text/plain": [
       "9.39194817523584"
      ]
     },
     "execution_count": 101,
     "metadata": {},
     "output_type": "execute_result"
    }
   ],
   "source": [
    "sd"
   ]
  },
  {
   "cell_type": "code",
   "execution_count": 102,
   "id": "a5defa07",
   "metadata": {},
   "outputs": [],
   "source": [
    "data1_int = list(map(float, data1))"
   ]
  },
  {
   "cell_type": "code",
   "execution_count": 103,
   "id": "bf43ecc8",
   "metadata": {},
   "outputs": [
    {
     "data": {
      "text/plain": [
       "[1.3,\n",
       " 1.95,\n",
       " 2.47,\n",
       " 1.6,\n",
       " 2.95,\n",
       " 1.801,\n",
       " 1.34,\n",
       " 1.34,\n",
       " 1.63,\n",
       " 2.326,\n",
       " 2.44,\n",
       " 6.56,\n",
       " 1.28,\n",
       " 1.43,\n",
       " 1.99,\n",
       " 1.61,\n",
       " 1.92,\n",
       " 2.4,\n",
       " 1.5,\n",
       " 4.71]"
      ]
     },
     "execution_count": 103,
     "metadata": {},
     "output_type": "execute_result"
    }
   ],
   "source": [
    "data1_int"
   ]
  },
  {
   "cell_type": "code",
   "execution_count": 104,
   "id": "3b2acf17",
   "metadata": {},
   "outputs": [],
   "source": [
    "def function_cov(a=[],b=[]):\n",
    "  var_mean1=function_average(a)\n",
    "  var_mean2=function_average(b)\n",
    "  n = len(a)\n",
    "  sum = 0\n",
    "  for i in range(len(a)):\n",
    "      sum=(a[i]-var_mean1)*(b[i]-var_mean2)+ sum\n",
    "  return sum/(n-1)"
   ]
  },
  {
   "cell_type": "code",
   "execution_count": 106,
   "id": "29d96623",
   "metadata": {},
   "outputs": [],
   "source": [
    "cov_LE_F = function_cov(data1,data2)"
   ]
  },
  {
   "cell_type": "code",
   "execution_count": 107,
   "id": "8736dda5",
   "metadata": {},
   "outputs": [
    {
     "data": {
      "text/plain": [
       "-9.948617684210523"
      ]
     },
     "execution_count": 107,
     "metadata": {},
     "output_type": "execute_result"
    }
   ],
   "source": [
    "cov_LE_F"
   ]
  },
  {
   "cell_type": "code",
   "execution_count": 108,
   "id": "b9d07cb6",
   "metadata": {},
   "outputs": [],
   "source": [
    "def function_sd(b=[]):\n",
    "  sd = math.sqrt(function_variance(b))\n",
    "  return sd"
   ]
  },
  {
   "cell_type": "code",
   "execution_count": 109,
   "id": "8b10005a",
   "metadata": {},
   "outputs": [
    {
     "data": {
      "text/plain": [
       "1.2904368201667624"
      ]
     },
     "execution_count": 109,
     "metadata": {},
     "output_type": "execute_result"
    }
   ],
   "source": [
    "sd= function_sd(data1)\n",
    "sd"
   ]
  },
  {
   "cell_type": "code",
   "execution_count": 115,
   "id": "5fe6884c",
   "metadata": {},
   "outputs": [],
   "source": [
    "def function_cor(a=[],b=[]):\n",
    "  cov= function_cov(a,b)\n",
    "  sd_a = function_sd(a)\n",
    "  sd_b = function_sd(b)\n",
    "  return cov/(sd_a*sd_b)"
   ]
  },
  {
   "cell_type": "code",
   "execution_count": 116,
   "id": "9202bc93",
   "metadata": {},
   "outputs": [
    {
     "data": {
      "text/plain": [
       "-0.8208622956948615"
      ]
     },
     "execution_count": 116,
     "metadata": {},
     "output_type": "execute_result"
    }
   ],
   "source": [
    "function_cor(data1,data2)\n",
    "# the result shows very high level of correlation between 2 sets of data\n",
    "# 0,7<|r|≤0,9 "
   ]
  },
  {
   "cell_type": "code",
   "execution_count": 122,
   "id": "b7855785",
   "metadata": {},
   "outputs": [],
   "source": [
    "def function_avgLE(sigma,c=[]):\n",
    "  delta=1.96 *(sigma/(math.sqrt(len(c))))\n",
    "  avg = function_average(c)\n",
    "  return (avg-delta,avg+delta)"
   ]
  },
  {
   "cell_type": "code",
   "execution_count": 124,
   "id": "c0bc04b7",
   "metadata": {},
   "outputs": [
    {
     "data": {
      "text/plain": [
       "(69.25413184856727, 77.22186815143273)"
      ]
     },
     "execution_count": 124,
     "metadata": {},
     "output_type": "execute_result"
    }
   ],
   "source": [
    "function_avgLE(9.09,data2)\n"
   ]
  }
 ],
 "metadata": {
  "kernelspec": {
   "display_name": "Python 3 (ipykernel)",
   "language": "python",
   "name": "python3"
  },
  "language_info": {
   "codemirror_mode": {
    "name": "ipython",
    "version": 3
   },
   "file_extension": ".py",
   "mimetype": "text/x-python",
   "name": "python",
   "nbconvert_exporter": "python",
   "pygments_lexer": "ipython3",
   "version": "3.8.8"
  }
 },
 "nbformat": 4,
 "nbformat_minor": 5
}
